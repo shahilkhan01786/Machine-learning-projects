{
  "nbformat": 4,
  "nbformat_minor": 0,
  "metadata": {
    "colab": {
      "provenance": []
    },
    "kernelspec": {
      "name": "python3",
      "display_name": "Python 3"
    },
    "language_info": {
      "name": "python"
    }
  },
  "cells": [
    {
      "cell_type": "code",
      "execution_count": 1,
      "metadata": {
        "id": "xmro5kIKbaML"
      },
      "outputs": [],
      "source": [
        "# Import required libraries\n",
        "import pandas as pd\n",
        "import numpy as np\n",
        "from sklearn.model_selection import train_test_split\n",
        "from sklearn.linear_model import LogisticRegression\n",
        "from sklearn.preprocessing import LabelEncoder\n",
        "from sklearn.metrics import accuracy_score, confusion_matrix, classification_report\n"
      ]
    },
    {
      "cell_type": "code",
      "source": [
        "# Load dataset\n",
        "df = pd.read_csv(\"/content/titanic.csv\")\n"
      ],
      "metadata": {
        "id": "CtepblVbcrT8"
      },
      "execution_count": 2,
      "outputs": []
    },
    {
      "cell_type": "code",
      "source": [
        "# Display basic info\n",
        "print(df.head())\n",
        "print(df.isnull().sum())\n",
        "\n",
        "# Drop unnecessary columns\n",
        "df.drop([\"PassengerId\", \"Name\", \"Ticket\", \"Cabin\"], axis=1, inplace=True)\n",
        "\n",
        "# Fill missing values\n",
        "df['Age'].fillna(df['Age'].median(), inplace=True)\n",
        "df['Embarked'].fillna(df['Embarked'].mode()[0], inplace=True)\n"
      ],
      "metadata": {
        "colab": {
          "base_uri": "https://localhost:8080/"
        },
        "id": "ErdbsKbTeopp",
        "outputId": "c8f28f7d-2048-413f-c6ed-a3f753f92ab0"
      },
      "execution_count": 3,
      "outputs": [
        {
          "output_type": "stream",
          "name": "stdout",
          "text": [
            "   PassengerId  Survived  Pclass  \\\n",
            "0          892         0       3   \n",
            "1          893         1       3   \n",
            "2          894         0       2   \n",
            "3          895         0       3   \n",
            "4          896         1       3   \n",
            "\n",
            "                                           Name     Sex   Age  SibSp  Parch  \\\n",
            "0                              Kelly, Mr. James    male  34.5      0      0   \n",
            "1              Wilkes, Mrs. James (Ellen Needs)  female  47.0      1      0   \n",
            "2                     Myles, Mr. Thomas Francis    male  62.0      0      0   \n",
            "3                              Wirz, Mr. Albert    male  27.0      0      0   \n",
            "4  Hirvonen, Mrs. Alexander (Helga E Lindqvist)  female  22.0      1      1   \n",
            "\n",
            "    Ticket     Fare Cabin Embarked  \n",
            "0   330911   7.8292   NaN        Q  \n",
            "1   363272   7.0000   NaN        S  \n",
            "2   240276   9.6875   NaN        Q  \n",
            "3   315154   8.6625   NaN        S  \n",
            "4  3101298  12.2875   NaN        S  \n",
            "PassengerId      0\n",
            "Survived         0\n",
            "Pclass           0\n",
            "Name             0\n",
            "Sex              0\n",
            "Age             86\n",
            "SibSp            0\n",
            "Parch            0\n",
            "Ticket           0\n",
            "Fare             1\n",
            "Cabin          327\n",
            "Embarked         0\n",
            "dtype: int64\n"
          ]
        },
        {
          "output_type": "stream",
          "name": "stderr",
          "text": [
            "/tmp/ipython-input-3-3810305147.py:9: FutureWarning: A value is trying to be set on a copy of a DataFrame or Series through chained assignment using an inplace method.\n",
            "The behavior will change in pandas 3.0. This inplace method will never work because the intermediate object on which we are setting values always behaves as a copy.\n",
            "\n",
            "For example, when doing 'df[col].method(value, inplace=True)', try using 'df.method({col: value}, inplace=True)' or df[col] = df[col].method(value) instead, to perform the operation inplace on the original object.\n",
            "\n",
            "\n",
            "  df['Age'].fillna(df['Age'].median(), inplace=True)\n",
            "/tmp/ipython-input-3-3810305147.py:10: FutureWarning: A value is trying to be set on a copy of a DataFrame or Series through chained assignment using an inplace method.\n",
            "The behavior will change in pandas 3.0. This inplace method will never work because the intermediate object on which we are setting values always behaves as a copy.\n",
            "\n",
            "For example, when doing 'df[col].method(value, inplace=True)', try using 'df.method({col: value}, inplace=True)' or df[col] = df[col].method(value) instead, to perform the operation inplace on the original object.\n",
            "\n",
            "\n",
            "  df['Embarked'].fillna(df['Embarked'].mode()[0], inplace=True)\n"
          ]
        }
      ]
    },
    {
      "cell_type": "code",
      "source": [
        "# Encode categorical variables\n",
        "le_sex = LabelEncoder()\n",
        "df['Sex'] = le_sex.fit_transform(df['Sex'])  # male=1, female=0\n",
        "\n",
        "le_embarked = LabelEncoder()\n",
        "df['Embarked'] = le_embarked.fit_transform(df['Embarked'])  # S=2, C=0, Q=1"
      ],
      "metadata": {
        "id": "zh0afPpueyL6"
      },
      "execution_count": 11,
      "outputs": []
    },
    {
      "cell_type": "code",
      "source": [
        "# Define features and target\n",
        "X = df.drop(\"Survived\", axis=1)\n",
        "y = df[\"Survived\"]\n",
        "\n",
        "# Check for missing values in X\n",
        "print(\"\\nMissing values in X after preprocessing:\")\n",
        "print(X.isnull().sum())\n",
        "\n",
        "# Drop rows with any missing values in X\n",
        "X = X.dropna()\n",
        "y = y[X.index]  # Ensure y aligns with the dropped rows in X\n",
        "\n",
        "# Split dataset\n",
        "X_train, X_test, y_train, y_test = train_test_split(X, y, test_size=0.2, random_state=42)\n",
        "\n",
        "# Train Logistic Regression model\n",
        "model = LogisticRegression(max_iter=200)\n",
        "model.fit(X_train, y_train)\n",
        "\n",
        "# Predict\n",
        "y_pred = model.predict(X_test)\n",
        "\n",
        "# Evaluate\n",
        "print(\"Accuracy:\", accuracy_score(y_test, y_pred))\n",
        "print(\"Confusion Matrix:\\n\", confusion_matrix(y_test, y_pred))\n",
        "print(\"Classification Report:\\n\", classification_report(y_test, y_pred))"
      ],
      "metadata": {
        "colab": {
          "base_uri": "https://localhost:8080/"
        },
        "id": "foJk0oB9e7ik",
        "outputId": "6fad2766-5969-4534-c249-85eb78a37aef"
      },
      "execution_count": 6,
      "outputs": [
        {
          "output_type": "stream",
          "name": "stdout",
          "text": [
            "\n",
            "Missing values in X after preprocessing:\n",
            "Pclass      0\n",
            "Sex         0\n",
            "Age         0\n",
            "SibSp       0\n",
            "Parch       0\n",
            "Fare        1\n",
            "Embarked    0\n",
            "dtype: int64\n",
            "Accuracy: 1.0\n",
            "Confusion Matrix:\n",
            " [[50  0]\n",
            " [ 0 34]]\n",
            "Classification Report:\n",
            "               precision    recall  f1-score   support\n",
            "\n",
            "           0       1.00      1.00      1.00        50\n",
            "           1       1.00      1.00      1.00        34\n",
            "\n",
            "    accuracy                           1.00        84\n",
            "   macro avg       1.00      1.00      1.00        84\n",
            "weighted avg       1.00      1.00      1.00        84\n",
            "\n"
          ]
        }
      ]
    },
    {
      "cell_type": "code",
      "source": [
        "from sklearn.model_selection import cross_val_score\n",
        "\n",
        "# 5-fold cross-validation accuracy\n",
        "cv_scores = cross_val_score(model, X, y, cv=5, scoring='accuracy')\n",
        "print(\"Cross-Validation Accuracy: {:.2f}%\".format(cv_scores.mean() * 100))\n"
      ],
      "metadata": {
        "colab": {
          "base_uri": "https://localhost:8080/"
        },
        "id": "9DHUAa4Yfa1r",
        "outputId": "a38d68df-b8e4-4e44-b21b-55e1ecd426b8"
      },
      "execution_count": 7,
      "outputs": [
        {
          "output_type": "stream",
          "name": "stdout",
          "text": [
            "Cross-Validation Accuracy: 100.00%\n"
          ]
        }
      ]
    },
    {
      "cell_type": "code",
      "source": [
        "# Step 5: Prediction Function (Based on your data format)\n",
        "def predict_passenger():\n",
        "\n",
        "    pclass = int(input(\"Pclass (1/2/3): \"))\n",
        "    sex = input(\"Sex (male/female): \").strip().lower()\n",
        "    age = float(input(\"Age (in years): \"))\n",
        "    sibsp = int(input(\"SibSp (siblings/spouse aboard): \"))\n",
        "    parch = int(input(\"Parch (parents/children aboard): \"))\n",
        "    fare = float(input(\"Fare (ticket price): \"))\n",
        "    embarked = input(\"Embarked (C/Q/S): \").strip().upper()\n",
        "\n",
        "    # Prepare input in correct order\n",
        "    input_data = pd.DataFrame([[pclass, sex, age, sibsp, parch, fare, embarked]],\n",
        "                              columns=[\"Pclass\", \"Sex\", \"Age\", \"SibSp\", \"Parch\", \"Fare\", \"Embarked\"])\n",
        "\n",
        "    # Encode input\n",
        "    input_data[\"Sex\"] = le_sex.transform(input_data[\"Sex\"])\n",
        "    input_data[\"Embarked\"] = le_embarked.transform(input_data[\"Embarked\"])\n",
        "\n",
        "    # Prediction\n",
        "    pred = model.predict(input_data)[0]\n",
        "    print(\"\\n🎯 Prediction:\", \"🟢 Survived\" if pred == 1 else \"🔴 Not Survived\")\n",
        "\n",
        "# ▶️ Call prediction system\n",
        "predict_passenger()"
      ],
      "metadata": {
        "colab": {
          "base_uri": "https://localhost:8080/"
        },
        "id": "Kf8aY8kOkon4",
        "outputId": "ec3819d1-a211-4720-b062-ce57df0322eb"
      },
      "execution_count": 30,
      "outputs": [
        {
          "output_type": "stream",
          "name": "stdout",
          "text": [
            "Pclass (1/2/3): 3\n",
            "Sex (male/female): 1\n",
            "Age (in years): 34.5\n",
            "SibSp (siblings/spouse aboard): 0\n",
            "Parch (parents/children aboard): 0\n",
            "Fare (ticket price): 7.8292\n",
            "Embarked (C/Q/S): 1\n",
            "\n",
            "🎯 Prediction: 🔴 Not Survived\n"
          ]
        }
      ]
    }
  ]
}